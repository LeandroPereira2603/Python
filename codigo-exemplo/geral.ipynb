{
 "cells": [
  {
   "cell_type": "code",
   "execution_count": null,
   "metadata": {},
   "outputs": [],
   "source": [
    "## Tabuada dinammica que defini da tabuada minimo até a tabuada máxima \n",
    "valor1 = int(input(print('digite o primeiro valor')))\n",
    "valor2 = int(input(print('digite o segundo valor')))\n",
    "for h in range(valor1,valor2+1):\n",
    "    for i in range(0,11):\n",
    "      calcTabuada = h *i \n",
    "      print(' ',h,'X',i,'=',calcTabuada,' ')\n",
    "    print('\\n')\n",
    "\n",
    "#"
   ]
  },
  {
   "cell_type": "code",
   "execution_count": null,
   "metadata": {},
   "outputs": [],
   "source": [
    "## algoritmo , exemplo de sintaxe de python , calculo tabuada : \n",
    "\n",
    "c = int(input(print('Digite o número ')));\n",
    "c=c +1;\n",
    "\n",
    "n = 0 ;\n",
    "\n",
    "for k in range(0,c):\n",
    " for i in range(10):\n",
    "   result = n * i;\n",
    "   print (' ',n,' x ',i,' = ',result);\n",
    " print(\"\");\n",
    " n = n+ 1; "
   ]
  }
 ],
 "metadata": {
  "kernelspec": {
   "display_name": "Python 3",
   "language": "python",
   "name": "python3"
  },
  "language_info": {
   "name": "python",
   "version": "3.11.7"
  }
 },
 "nbformat": 4,
 "nbformat_minor": 2
}
